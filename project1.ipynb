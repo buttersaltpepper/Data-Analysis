{
 "cells": [
  {
   "attachments": {},
   "cell_type": "markdown",
   "metadata": {},
   "source": [
    "# E-Commerce Business Insights and Recommendations\n",
    "The goal of this project is to gain an understanding of a business by exploring its dataset, identify business questions to answer, and uncover actionable insights using SQL and Python. The insights gathered will be used to develop dashboards and visualisations in PowerBI that can help the business make informed decisions and create value.\n",
    "\n",
    "## Dataset\n",
    "For this project, I will be using the Fictitious E-Commerce Dataset [\"thelook_ecommerce\"](https://console.cloud.google.com/bigquery?p=bigquery-public-data&d=thelook_ecommerce&page=dataset&project=fiery-nimbus-360723) from Google BigQuery. This dataset contains detailed information about:\n",
    "* `distribution_centers`,\n",
    "* `events`,\n",
    "* `inventory_items`,\n",
    "* `order_items`,\n",
    "* `orders`,\n",
    "* `products`,\n",
    "* `users`\n",
    "\n",
    "The dataset has been collected from a large online retailer and represents a real-life scenario for a retail business. With a large number of tables and a large volume of data, this dataset provides a good representation of a typical retail business and offers a great opportunity to apply a variety of data analysis techniques to uncover insights.\n",
    "\n",
    "## Tasks\n",
    "1. **Data Exploration:**\n",
    "* Familiarise with the e-commerce dataset, including tables and columns.\n",
    "* Identify business questions that can be answered to uncover actionable insights and create value for the business.\n",
    "\n",
    "2. **Data Cleaning and Transformation:**\n",
    "* Identify and extract relevant tables to analyse for business recommendations.\n",
    "* Check for missing values, duplicates.\n",
    "\n",
    "3. **Data Analysis and Visualisation:**\n",
    "* Visualise the distributions and summary statistics\n",
    "* Remove any outliers\n",
    "* Calculate key performance indicators (KPIs) that measure the success of the business.\n",
    "\n",
    "4. **Statistical Analysis:**\n",
    "* Conduct hypothesis tests to determine if there are significant differences between groups.\n",
    "* Identify major drivers of the e-commerce KPIs.\n",
    "\n",
    "5. **KMeans Clustering:**\n",
    "* Use the KMeans machine learning technique to segment customers into different groups and understand their behavior and preferences.\n",
    "\n",
    "6. **Provide recommendations:**\n",
    "* Provide recommendations based on the results from the data analysis, hypothesis testing, KPI calculation, and KMeans clustering.\n",
    "* Use Power BI to create a dashboard to display the results of your analysis."
   ]
  },
  {
   "attachments": {},
   "cell_type": "markdown",
   "metadata": {},
   "source": [
    "## Packages"
   ]
  },
  {
   "cell_type": "code",
   "execution_count": 255,
   "metadata": {},
   "outputs": [],
   "source": [
    "# Data processing\n",
    "import pandas as pd\n",
    "\n",
    "# Visualizations\n",
    "import matplotlib.pyplot as plt\n",
    "import seaborn as sns\n",
    "\n",
    "plt.rcParams[\"figure.figsize\"] = (10,6)\n",
    "plt.rcParams['axes.titleweight'] = 'bold'\n",
    "plt.rcParams['axes.titlesize'] = 16\n",
    "# BigQuery API\n",
    "from google.cloud import bigquery \n",
    "import pandas_gbq\n",
    "import os\n",
    "\n",
    "# Statistics\n",
    "from scipy import stats\n",
    "\n",
    "# Create BigQuery client\n",
    "os.environ['GOOGLE_APPLICATION_CREDENTIALS'] = 'bq_service.json'\n",
    "client = bigquery.Client()"
   ]
  },
  {
   "attachments": {},
   "cell_type": "markdown",
   "metadata": {},
   "source": [
    "# Data Exploration\n",
    "I need to have an overview of the tables in the dataset to gain an understanding of the business, which can allow me to plan on how to create value for the business by uncovering new opportunities and areas for improvement."
   ]
  },
  {
   "attachments": {},
   "cell_type": "markdown",
   "metadata": {},
   "source": [
    "### Schema"
   ]
  },
  {
   "cell_type": "code",
   "execution_count": 183,
   "metadata": {},
   "outputs": [
    {
     "data": {
      "text/html": [
       "<div>\n",
       "<style scoped>\n",
       "    .dataframe tbody tr th:only-of-type {\n",
       "        vertical-align: middle;\n",
       "    }\n",
       "\n",
       "    .dataframe tbody tr th {\n",
       "        vertical-align: top;\n",
       "    }\n",
       "\n",
       "    .dataframe thead th {\n",
       "        text-align: right;\n",
       "    }\n",
       "</style>\n",
       "<table border=\"1\" class=\"dataframe\">\n",
       "  <thead>\n",
       "    <tr style=\"text-align: right;\">\n",
       "      <th></th>\n",
       "      <th>table_name</th>\n",
       "      <th>column_name</th>\n",
       "      <th>data_type</th>\n",
       "    </tr>\n",
       "  </thead>\n",
       "  <tbody>\n",
       "    <tr>\n",
       "      <th>0</th>\n",
       "      <td>users</td>\n",
       "      <td>id</td>\n",
       "      <td>INT64</td>\n",
       "    </tr>\n",
       "    <tr>\n",
       "      <th>1</th>\n",
       "      <td>users</td>\n",
       "      <td>first_name</td>\n",
       "      <td>STRING</td>\n",
       "    </tr>\n",
       "    <tr>\n",
       "      <th>2</th>\n",
       "      <td>users</td>\n",
       "      <td>last_name</td>\n",
       "      <td>STRING</td>\n",
       "    </tr>\n",
       "    <tr>\n",
       "      <th>3</th>\n",
       "      <td>users</td>\n",
       "      <td>email</td>\n",
       "      <td>STRING</td>\n",
       "    </tr>\n",
       "    <tr>\n",
       "      <th>4</th>\n",
       "      <td>users</td>\n",
       "      <td>age</td>\n",
       "      <td>INT64</td>\n",
       "    </tr>\n",
       "    <tr>\n",
       "      <th>...</th>\n",
       "      <td>...</td>\n",
       "      <td>...</td>\n",
       "      <td>...</td>\n",
       "    </tr>\n",
       "    <tr>\n",
       "      <th>68</th>\n",
       "      <td>events</td>\n",
       "      <td>postal_code</td>\n",
       "      <td>STRING</td>\n",
       "    </tr>\n",
       "    <tr>\n",
       "      <th>69</th>\n",
       "      <td>events</td>\n",
       "      <td>browser</td>\n",
       "      <td>STRING</td>\n",
       "    </tr>\n",
       "    <tr>\n",
       "      <th>70</th>\n",
       "      <td>events</td>\n",
       "      <td>traffic_source</td>\n",
       "      <td>STRING</td>\n",
       "    </tr>\n",
       "    <tr>\n",
       "      <th>71</th>\n",
       "      <td>events</td>\n",
       "      <td>uri</td>\n",
       "      <td>STRING</td>\n",
       "    </tr>\n",
       "    <tr>\n",
       "      <th>72</th>\n",
       "      <td>events</td>\n",
       "      <td>event_type</td>\n",
       "      <td>STRING</td>\n",
       "    </tr>\n",
       "  </tbody>\n",
       "</table>\n",
       "<p>73 rows × 3 columns</p>\n",
       "</div>"
      ],
      "text/plain": [
       "   table_name     column_name data_type\n",
       "0       users              id     INT64\n",
       "1       users      first_name    STRING\n",
       "2       users       last_name    STRING\n",
       "3       users           email    STRING\n",
       "4       users             age     INT64\n",
       "..        ...             ...       ...\n",
       "68     events     postal_code    STRING\n",
       "69     events         browser    STRING\n",
       "70     events  traffic_source    STRING\n",
       "71     events             uri    STRING\n",
       "72     events      event_type    STRING\n",
       "\n",
       "[73 rows x 3 columns]"
      ]
     },
     "execution_count": 183,
     "metadata": {},
     "output_type": "execute_result"
    }
   ],
   "source": [
    "q = \"\"\"\n",
    "select \n",
    "    table_name, \n",
    "    column_name,\n",
    "    data_type\n",
    "from bigquery-public-data.thelook_ecommerce.INFORMATION_SCHEMA.COLUMNS\n",
    "\"\"\"\n",
    "\n",
    "schema_df = pd.read_gbq(q)\n",
    "schema_df"
   ]
  },
  {
   "cell_type": "code",
   "execution_count": 184,
   "metadata": {},
   "outputs": [
    {
     "data": {
      "text/html": [
       "<div>\n",
       "<style scoped>\n",
       "    .dataframe tbody tr th:only-of-type {\n",
       "        vertical-align: middle;\n",
       "    }\n",
       "\n",
       "    .dataframe tbody tr th {\n",
       "        vertical-align: top;\n",
       "    }\n",
       "\n",
       "    .dataframe thead th {\n",
       "        text-align: right;\n",
       "    }\n",
       "</style>\n",
       "<table border=\"1\" class=\"dataframe\">\n",
       "  <thead>\n",
       "    <tr style=\"text-align: right;\">\n",
       "      <th></th>\n",
       "      <th>table_id</th>\n",
       "      <th>row_count</th>\n",
       "    </tr>\n",
       "  </thead>\n",
       "  <tbody>\n",
       "    <tr>\n",
       "      <th>0</th>\n",
       "      <td>distribution_centers</td>\n",
       "      <td>10</td>\n",
       "    </tr>\n",
       "    <tr>\n",
       "      <th>1</th>\n",
       "      <td>events</td>\n",
       "      <td>2426900</td>\n",
       "    </tr>\n",
       "    <tr>\n",
       "      <th>2</th>\n",
       "      <td>inventory_items</td>\n",
       "      <td>490744</td>\n",
       "    </tr>\n",
       "    <tr>\n",
       "      <th>3</th>\n",
       "      <td>order_items</td>\n",
       "      <td>181521</td>\n",
       "    </tr>\n",
       "    <tr>\n",
       "      <th>4</th>\n",
       "      <td>orders</td>\n",
       "      <td>125144</td>\n",
       "    </tr>\n",
       "    <tr>\n",
       "      <th>5</th>\n",
       "      <td>products</td>\n",
       "      <td>29120</td>\n",
       "    </tr>\n",
       "    <tr>\n",
       "      <th>6</th>\n",
       "      <td>users</td>\n",
       "      <td>100000</td>\n",
       "    </tr>\n",
       "  </tbody>\n",
       "</table>\n",
       "</div>"
      ],
      "text/plain": [
       "               table_id  row_count\n",
       "0  distribution_centers         10\n",
       "1                events    2426900\n",
       "2       inventory_items     490744\n",
       "3           order_items     181521\n",
       "4                orders     125144\n",
       "5              products      29120\n",
       "6                 users     100000"
      ]
     },
     "execution_count": 184,
     "metadata": {},
     "output_type": "execute_result"
    }
   ],
   "source": [
    "# View total number of rows\n",
    "q = \"\"\"\n",
    "SELECT \n",
    "    table_id,\n",
    "    row_count\n",
    "FROM bigquery-public-data.thelook_ecommerce.__TABLES__\n",
    "\"\"\"\n",
    "\n",
    "pd.read_gbq(q)"
   ]
  },
  {
   "cell_type": "code",
   "execution_count": 185,
   "metadata": {},
   "outputs": [
    {
     "data": {
      "text/html": [
       "<div>\n",
       "<style scoped>\n",
       "    .dataframe tbody tr th:only-of-type {\n",
       "        vertical-align: middle;\n",
       "    }\n",
       "\n",
       "    .dataframe tbody tr th {\n",
       "        vertical-align: top;\n",
       "    }\n",
       "\n",
       "    .dataframe thead th {\n",
       "        text-align: right;\n",
       "    }\n",
       "</style>\n",
       "<table border=\"1\" class=\"dataframe\">\n",
       "  <thead>\n",
       "    <tr style=\"text-align: right;\">\n",
       "      <th></th>\n",
       "      <th>id</th>\n",
       "      <th>first_name</th>\n",
       "      <th>last_name</th>\n",
       "      <th>email</th>\n",
       "      <th>age</th>\n",
       "      <th>gender</th>\n",
       "      <th>state</th>\n",
       "      <th>street_address</th>\n",
       "      <th>postal_code</th>\n",
       "      <th>city</th>\n",
       "      <th>country</th>\n",
       "      <th>latitude</th>\n",
       "      <th>longitude</th>\n",
       "      <th>traffic_source</th>\n",
       "      <th>created_at</th>\n",
       "    </tr>\n",
       "  </thead>\n",
       "  <tbody>\n",
       "    <tr>\n",
       "      <th>0</th>\n",
       "      <td>67498</td>\n",
       "      <td>Tyler</td>\n",
       "      <td>Morrison</td>\n",
       "      <td>tylermorrison@example.net</td>\n",
       "      <td>20</td>\n",
       "      <td>M</td>\n",
       "      <td>Mie</td>\n",
       "      <td>58734 Wong Ranch</td>\n",
       "      <td>513-0836</td>\n",
       "      <td>Suzuka City</td>\n",
       "      <td>Japan</td>\n",
       "      <td>34.851814</td>\n",
       "      <td>136.508713</td>\n",
       "      <td>Search</td>\n",
       "      <td>2022-12-18 01:30:00+00:00</td>\n",
       "    </tr>\n",
       "    <tr>\n",
       "      <th>1</th>\n",
       "      <td>78040</td>\n",
       "      <td>Robert</td>\n",
       "      <td>Perkins</td>\n",
       "      <td>robertperkins@example.net</td>\n",
       "      <td>18</td>\n",
       "      <td>M</td>\n",
       "      <td>Mie</td>\n",
       "      <td>40674 Delgado Walk</td>\n",
       "      <td>513-0836</td>\n",
       "      <td>Suzuka City</td>\n",
       "      <td>Japan</td>\n",
       "      <td>34.851814</td>\n",
       "      <td>136.508713</td>\n",
       "      <td>Email</td>\n",
       "      <td>2021-05-14 03:59:00+00:00</td>\n",
       "    </tr>\n",
       "    <tr>\n",
       "      <th>2</th>\n",
       "      <td>1983</td>\n",
       "      <td>Timothy</td>\n",
       "      <td>Hensley</td>\n",
       "      <td>timothyhensley@example.com</td>\n",
       "      <td>20</td>\n",
       "      <td>M</td>\n",
       "      <td>Acre</td>\n",
       "      <td>65955 Scott Isle Suite 340</td>\n",
       "      <td>69917-400</td>\n",
       "      <td>Rio Branco</td>\n",
       "      <td>Brasil</td>\n",
       "      <td>-9.945568</td>\n",
       "      <td>-67.835610</td>\n",
       "      <td>Display</td>\n",
       "      <td>2020-07-20 03:46:00+00:00</td>\n",
       "    </tr>\n",
       "    <tr>\n",
       "      <th>3</th>\n",
       "      <td>12782</td>\n",
       "      <td>Christopher</td>\n",
       "      <td>Gray</td>\n",
       "      <td>christophergray@example.net</td>\n",
       "      <td>39</td>\n",
       "      <td>M</td>\n",
       "      <td>Acre</td>\n",
       "      <td>36368 Wilson Forest</td>\n",
       "      <td>69917-400</td>\n",
       "      <td>Rio Branco</td>\n",
       "      <td>Brasil</td>\n",
       "      <td>-9.945568</td>\n",
       "      <td>-67.835610</td>\n",
       "      <td>Search</td>\n",
       "      <td>2022-06-23 08:41:00+00:00</td>\n",
       "    </tr>\n",
       "    <tr>\n",
       "      <th>4</th>\n",
       "      <td>20440</td>\n",
       "      <td>Cynthia</td>\n",
       "      <td>Webb</td>\n",
       "      <td>cynthiawebb@example.org</td>\n",
       "      <td>57</td>\n",
       "      <td>F</td>\n",
       "      <td>Acre</td>\n",
       "      <td>34648 Mccarthy Mission</td>\n",
       "      <td>69917-400</td>\n",
       "      <td>Rio Branco</td>\n",
       "      <td>Brasil</td>\n",
       "      <td>-9.945568</td>\n",
       "      <td>-67.835610</td>\n",
       "      <td>Organic</td>\n",
       "      <td>2021-03-24 09:31:00+00:00</td>\n",
       "    </tr>\n",
       "  </tbody>\n",
       "</table>\n",
       "</div>"
      ],
      "text/plain": [
       "      id   first_name last_name                        email  age gender  \\\n",
       "0  67498        Tyler  Morrison    tylermorrison@example.net   20      M   \n",
       "1  78040       Robert   Perkins    robertperkins@example.net   18      M   \n",
       "2   1983      Timothy   Hensley   timothyhensley@example.com   20      M   \n",
       "3  12782  Christopher      Gray  christophergray@example.net   39      M   \n",
       "4  20440      Cynthia      Webb      cynthiawebb@example.org   57      F   \n",
       "\n",
       "  state              street_address postal_code         city country  \\\n",
       "0   Mie            58734 Wong Ranch    513-0836  Suzuka City   Japan   \n",
       "1   Mie          40674 Delgado Walk    513-0836  Suzuka City   Japan   \n",
       "2  Acre  65955 Scott Isle Suite 340   69917-400   Rio Branco  Brasil   \n",
       "3  Acre         36368 Wilson Forest   69917-400   Rio Branco  Brasil   \n",
       "4  Acre      34648 Mccarthy Mission   69917-400   Rio Branco  Brasil   \n",
       "\n",
       "    latitude   longitude traffic_source                created_at  \n",
       "0  34.851814  136.508713         Search 2022-12-18 01:30:00+00:00  \n",
       "1  34.851814  136.508713          Email 2021-05-14 03:59:00+00:00  \n",
       "2  -9.945568  -67.835610        Display 2020-07-20 03:46:00+00:00  \n",
       "3  -9.945568  -67.835610         Search 2022-06-23 08:41:00+00:00  \n",
       "4  -9.945568  -67.835610        Organic 2021-03-24 09:31:00+00:00  "
      ]
     },
     "execution_count": 185,
     "metadata": {},
     "output_type": "execute_result"
    }
   ],
   "source": [
    "# Preview and understand each table\n",
    "q = \"\"\"\n",
    "select *\n",
    "from bigquery-public-data.thelook_ecommerce.users\n",
    "limit 5;\n",
    "\"\"\"\n",
    "pd.read_gbq(q)"
   ]
  },
  {
   "attachments": {},
   "cell_type": "markdown",
   "metadata": {},
   "source": [
    "## Sales trend over time\n",
    "* Tables: `orders`, `order_items`"
   ]
  },
  {
   "cell_type": "code",
   "execution_count": 254,
   "metadata": {},
   "outputs": [
    {
     "data": {
      "image/png": "[encoded data removed]",
      "text/plain": [
       "<Figure size 720x360 with 1 Axes>"
      ]
     },
     "metadata": {},
     "output_type": "display_data"
    }
   ],
   "source": [
    "q = \"\"\"\n",
    "select\n",
    "    date(o.created_at) as date,\n",
    "    sum(o.num_of_item * oi.sale_price) as total_sales\n",
    "from bigquery-public-data.thelook_ecommerce.orders as o\n",
    "join bigquery-public-data.thelook_ecommerce.order_items as oi\n",
    "on o.order_id = oi.id\n",
    "\n",
    "group by date\n",
    "order by date;\n",
    "\"\"\"\n",
    "\n",
    "df = pd.read_gbq(q)\n",
    "\n",
    "plt.title('Sales over time')\n",
    "plt.plot(df.date, df.total_sales);"
   ]
  },
  {
   "attachments": {},
   "cell_type": "markdown",
   "metadata": {},
   "source": [
    "## Revenue streams\n",
    "Tables: `order_items`, `products`, `orders`, `users`"
   ]
  },
  {
   "cell_type": "code",
   "execution_count": 245,
   "metadata": {},
   "outputs": [],
   "source": [
    "sns.set_style(\"white\", {\"axes.spines.right\": False, \"axes.spines.top\": False, \"axes.spines.left\": False})"
   ]
  },
  {
   "cell_type": "code",
   "execution_count": 258,
   "metadata": {},
   "outputs": [
    {
     "data": {
      "image/png": "[encoded data removed]",
      "text/plain": [
       "<Figure size 720x432 with 1 Axes>"
      ]
     },
     "metadata": {},
     "output_type": "display_data"
    },
    {
     "data": {
      "image/png": "[encoded data removed]",
      "text/plain": [
       "<Figure size 720x432 with 1 Axes>"
      ]
     },
     "metadata": {},
     "output_type": "display_data"
    },
    {
     "data": {
      "image/png": "[encoded data removed]",
      "text/plain": [
       "<Figure size 720x432 with 1 Axes>"
      ]
     },
     "metadata": {},
     "output_type": "display_data"
    }
   ],
   "source": [
    "# Revenue Streams\n",
    "rev_streams = ['brand', 'category', 'country']\n",
    "\n",
    "for stream in rev_streams:\n",
    "    q = \"\"\"\n",
    "    select\n",
    "        {},\n",
    "        sum(sale_price * num_of_item) as total_revenue\n",
    "\n",
    "    from bigquery-public-data.thelook_ecommerce.order_items as oi\n",
    "    join bigquery-public-data.thelook_ecommerce.products as p\n",
    "    on oi.product_id = p.id\n",
    "    join bigquery-public-data.thelook_ecommerce.orders as o\n",
    "    on o.order_id = oi.order_id\n",
    "    join bigquery-public-data.thelook_ecommerce.users as u\n",
    "    on oi.user_id = u.id\n",
    "\n",
    "    group by {}\n",
    "\n",
    "    order by total_revenue desc\n",
    "    limit 5\n",
    "    \"\"\".format(stream, stream)\n",
    "\n",
    "    df = pd.read_gbq(q)\n",
    "\n",
    "    sns.barplot(x=stream, y='total_revenue', data=df, color='#0068ff')\n",
    "    plt.title('Revenue by {}'.format(stream))\n",
    "    plt.xlabel(stream)\n",
    "    plt.ylabel('Revenue')\n",
    "    plt.show()"
   ]
  },
  {
   "attachments": {},
   "cell_type": "markdown",
   "metadata": {},
   "source": [
    "## Profit over time\n",
    "Tables: `inventory_items`, `products`, `order_items`, `orders`, `users`"
   ]
  },
  {
   "cell_type": "code",
   "execution_count": 230,
   "metadata": {},
   "outputs": [
    {
     "data": {
      "text/html": [
       "<div>\n",
       "<style scoped>\n",
       "    .dataframe tbody tr th:only-of-type {\n",
       "        vertical-align: middle;\n",
       "    }\n",
       "\n",
       "    .dataframe tbody tr th {\n",
       "        vertical-align: top;\n",
       "    }\n",
       "\n",
       "    .dataframe thead th {\n",
       "        text-align: right;\n",
       "    }\n",
       "</style>\n",
       "<table border=\"1\" class=\"dataframe\">\n",
       "  <thead>\n",
       "    <tr style=\"text-align: right;\">\n",
       "      <th></th>\n",
       "      <th>id</th>\n",
       "      <th>product_id</th>\n",
       "      <th>created_at</th>\n",
       "      <th>sold_at</th>\n",
       "      <th>cost</th>\n",
       "      <th>product_category</th>\n",
       "      <th>product_name</th>\n",
       "      <th>product_brand</th>\n",
       "      <th>product_retail_price</th>\n",
       "      <th>product_department</th>\n",
       "      <th>...</th>\n",
       "      <th>gender_1</th>\n",
       "      <th>state</th>\n",
       "      <th>street_address</th>\n",
       "      <th>postal_code</th>\n",
       "      <th>city</th>\n",
       "      <th>country</th>\n",
       "      <th>latitude</th>\n",
       "      <th>longitude</th>\n",
       "      <th>traffic_source</th>\n",
       "      <th>created_at_3</th>\n",
       "    </tr>\n",
       "  </thead>\n",
       "  <tbody>\n",
       "    <tr>\n",
       "      <th>0</th>\n",
       "      <td>64146</td>\n",
       "      <td>16898</td>\n",
       "      <td>2022-01-31 21:38:41+00:00</td>\n",
       "      <td>2022-03-17 15:56:41+00:00</td>\n",
       "      <td>13.925</td>\n",
       "      <td>Tops &amp; Tees</td>\n",
       "      <td>Quiksilver Waterman Men's On The Rise</td>\n",
       "      <td></td>\n",
       "      <td>25.0</td>\n",
       "      <td>Men</td>\n",
       "      <td>...</td>\n",
       "      <td>M</td>\n",
       "      <td>Shanxi</td>\n",
       "      <td>8877 Hayden View</td>\n",
       "      <td>38308</td>\n",
       "      <td>Zibo</td>\n",
       "      <td>China</td>\n",
       "      <td>39.739365</td>\n",
       "      <td>113.145960</td>\n",
       "      <td>Display</td>\n",
       "      <td>2020-04-05 17:42:00+00:00</td>\n",
       "    </tr>\n",
       "    <tr>\n",
       "      <th>1</th>\n",
       "      <td>64146</td>\n",
       "      <td>16898</td>\n",
       "      <td>2022-01-31 21:38:41+00:00</td>\n",
       "      <td>2022-03-17 15:56:41+00:00</td>\n",
       "      <td>13.925</td>\n",
       "      <td>Tops &amp; Tees</td>\n",
       "      <td>Quiksilver Waterman Men's On The Rise</td>\n",
       "      <td></td>\n",
       "      <td>25.0</td>\n",
       "      <td>Men</td>\n",
       "      <td>...</td>\n",
       "      <td>M</td>\n",
       "      <td>Grand Est</td>\n",
       "      <td>0192 David Extensions Suite 364</td>\n",
       "      <td>55200</td>\n",
       "      <td>Commercy</td>\n",
       "      <td>France</td>\n",
       "      <td>48.775634</td>\n",
       "      <td>5.613880</td>\n",
       "      <td>Search</td>\n",
       "      <td>2022-07-21 10:09:00+00:00</td>\n",
       "    </tr>\n",
       "    <tr>\n",
       "      <th>2</th>\n",
       "      <td>64146</td>\n",
       "      <td>16898</td>\n",
       "      <td>2022-01-31 21:38:41+00:00</td>\n",
       "      <td>2022-03-17 15:56:41+00:00</td>\n",
       "      <td>13.925</td>\n",
       "      <td>Tops &amp; Tees</td>\n",
       "      <td>Quiksilver Waterman Men's On The Rise</td>\n",
       "      <td></td>\n",
       "      <td>25.0</td>\n",
       "      <td>Men</td>\n",
       "      <td>...</td>\n",
       "      <td>M</td>\n",
       "      <td>Heilongjiang</td>\n",
       "      <td>3276 Matthew Pass</td>\n",
       "      <td>163455</td>\n",
       "      <td>Jieyang</td>\n",
       "      <td>China</td>\n",
       "      <td>46.608389</td>\n",
       "      <td>124.802532</td>\n",
       "      <td>Facebook</td>\n",
       "      <td>2020-05-28 04:21:00+00:00</td>\n",
       "    </tr>\n",
       "  </tbody>\n",
       "</table>\n",
       "<p>3 rows × 56 columns</p>\n",
       "</div>"
      ],
      "text/plain": [
       "      id  product_id                created_at                   sold_at  \\\n",
       "0  64146       16898 2022-01-31 21:38:41+00:00 2022-03-17 15:56:41+00:00   \n",
       "1  64146       16898 2022-01-31 21:38:41+00:00 2022-03-17 15:56:41+00:00   \n",
       "2  64146       16898 2022-01-31 21:38:41+00:00 2022-03-17 15:56:41+00:00   \n",
       "\n",
       "     cost product_category                           product_name  \\\n",
       "0  13.925      Tops & Tees  Quiksilver Waterman Men's On The Rise   \n",
       "1  13.925      Tops & Tees  Quiksilver Waterman Men's On The Rise   \n",
       "2  13.925      Tops & Tees  Quiksilver Waterman Men's On The Rise   \n",
       "\n",
       "  product_brand  product_retail_price product_department  ... gender_1  \\\n",
       "0                                25.0                Men  ...        M   \n",
       "1                                25.0                Men  ...        M   \n",
       "2                                25.0                Men  ...        M   \n",
       "\n",
       "          state                   street_address  postal_code      city  \\\n",
       "0        Shanxi                 8877 Hayden View        38308      Zibo   \n",
       "1     Grand Est  0192 David Extensions Suite 364        55200  Commercy   \n",
       "2  Heilongjiang                3276 Matthew Pass       163455   Jieyang   \n",
       "\n",
       "  country   latitude   longitude traffic_source              created_at_3  \n",
       "0   China  39.739365  113.145960        Display 2020-04-05 17:42:00+00:00  \n",
       "1  France  48.775634    5.613880         Search 2022-07-21 10:09:00+00:00  \n",
       "2   China  46.608389  124.802532       Facebook 2020-05-28 04:21:00+00:00  \n",
       "\n",
       "[3 rows x 56 columns]"
      ]
     },
     "execution_count": 230,
     "metadata": {},
     "output_type": "execute_result"
    }
   ],
   "source": [
    "# Profit over time (price - cost)\n",
    "profit_streams = ['brand', 'category', 'country']\n",
    "\n",
    "q = \"\"\"\n",
    "select * \n",
    "from bigquery-public-data.thelook_ecommerce.inventory_items as inv\n",
    "join bigquery-public-data.thelook_ecommerce.products as p\n",
    "on inv.product_id = p.id\n",
    "\n",
    "join bigquery-public-data.thelook_ecommerce.order_items as o\n",
    "on o.product_id = p.id\n",
    "\n",
    "join bigquery-public-data.thelook_ecommerce.orders as od\n",
    "on od.order_id = o.order_id\n",
    "\n",
    "join bigquery-public-data.thelook_ecommerce.users as u\n",
    "on u.id = od.user_id\n",
    "\n",
    "limit 3\n",
    "\"\"\"\n",
    "\n",
    "pd.read_gbq(q)\n"
   ]
  },
  {
   "cell_type": "code",
   "execution_count": null,
   "metadata": {},
   "outputs": [],
   "source": []
  },
  {
   "cell_type": "code",
   "execution_count": null,
   "metadata": {},
   "outputs": [],
   "source": []
  },
  {
   "cell_type": "code",
   "execution_count": null,
   "metadata": {},
   "outputs": [],
   "source": []
  },
  {
   "attachments": {},
   "cell_type": "markdown",
   "metadata": {},
   "source": [
    "## Customer demographics\n",
    "Tables: `users`"
   ]
  },
  {
   "cell_type": "code",
   "execution_count": 259,
   "metadata": {},
   "outputs": [
    {
     "data": {
      "image/png": "[encoded data removed]",
      "text/plain": [
       "<Figure size 720x432 with 1 Axes>"
      ]
     },
     "metadata": {},
     "output_type": "display_data"
    },
    {
     "data": {
      "image/png": "[encoded data removed]",
      "text/plain": [
       "<Figure size 720x432 with 1 Axes>"
      ]
     },
     "metadata": {},
     "output_type": "display_data"
    },
    {
     "data": {
      "image/png": "[encoded data removed]",
      "text/plain": [
       "<Figure size 720x432 with 1 Axes>"
      ]
     },
     "metadata": {},
     "output_type": "display_data"
    },
    {
     "data": {
      "image/png": "[encoded data removed]",
      "text/plain": [
       "<Figure size 720x432 with 1 Axes>"
      ]
     },
     "metadata": {},
     "output_type": "display_data"
    },
    {
     "data": {
      "image/png": "[encoded data removed]",
      "text/plain": [
       "<Figure size 720x432 with 1 Axes>"
      ]
     },
     "metadata": {},
     "output_type": "display_data"
    }
   ],
   "source": [
    "customer_base = ['country', 'city', 'state', 'gender', 'age']\n",
    "\n",
    "for i in customer_base:\n",
    "    q = \"\"\"\n",
    "    select \n",
    "        {},\n",
    "        count(*) as num_customers\n",
    "    from bigquery-public-data.thelook_ecommerce.users\n",
    "    group by {}\n",
    "\n",
    "    order by num_customers desc\n",
    "    limit 5\n",
    "    \"\"\".format(i,i)\n",
    "\n",
    "    df = pd.read_gbq(q)\n",
    "    sns.barplot(x=i, y='num_customers', data=df, color='#0068ff')\n",
    "    plt.title('Total Customers by {}'.format(i))\n",
    "    plt.xlabel(i)\n",
    "    plt.ylabel('TotalCustomers')\n",
    "    plt.show()\n"
   ]
  },
  {
   "attachments": {},
   "cell_type": "markdown",
   "metadata": {},
   "source": [
    "## Inventorylevels"
   ]
  },
  {
   "cell_type": "code",
   "execution_count": null,
   "metadata": {},
   "outputs": [],
   "source": []
  },
  {
   "cell_type": "code",
   "execution_count": null,
   "metadata": {},
   "outputs": [],
   "source": []
  },
  {
   "cell_type": "code",
   "execution_count": null,
   "metadata": {},
   "outputs": [],
   "source": []
  },
  {
   "cell_type": "code",
   "execution_count": null,
   "metadata": {},
   "outputs": [],
   "source": []
  },
  {
   "cell_type": "code",
   "execution_count": null,
   "metadata": {},
   "outputs": [],
   "source": []
  },
  {
   "cell_type": "code",
   "execution_count": null,
   "metadata": {},
   "outputs": [],
   "source": []
  },
  {
   "cell_type": "code",
   "execution_count": null,
   "metadata": {},
   "outputs": [],
   "source": []
  },
  {
   "cell_type": "code",
   "execution_count": null,
   "metadata": {},
   "outputs": [],
   "source": []
  },
  {
   "cell_type": "code",
   "execution_count": null,
   "metadata": {},
   "outputs": [],
   "source": []
  },
  {
   "attachments": {},
   "cell_type": "markdown",
   "metadata": {},
   "source": [
    "## What are the most popular products among customers and how has their popularity changed over time?"
   ]
  },
  {
   "cell_type": "code",
   "execution_count": null,
   "metadata": {},
   "outputs": [
    {
     "data": {
      "text/html": [
       "<div>\n",
       "<style scoped>\n",
       "    .dataframe tbody tr th:only-of-type {\n",
       "        vertical-align: middle;\n",
       "    }\n",
       "\n",
       "    .dataframe tbody tr th {\n",
       "        vertical-align: top;\n",
       "    }\n",
       "\n",
       "    .dataframe thead th {\n",
       "        text-align: right;\n",
       "    }\n",
       "</style>\n",
       "<table border=\"1\" class=\"dataframe\">\n",
       "  <thead>\n",
       "    <tr style=\"text-align: right;\">\n",
       "      <th></th>\n",
       "      <th>num_products</th>\n",
       "    </tr>\n",
       "  </thead>\n",
       "  <tbody>\n",
       "    <tr>\n",
       "      <th>0</th>\n",
       "      <td>27309</td>\n",
       "    </tr>\n",
       "  </tbody>\n",
       "</table>\n",
       "</div>"
      ],
      "text/plain": [
       "   num_products\n",
       "0         27309"
      ]
     },
     "execution_count": 73,
     "metadata": {},
     "output_type": "execute_result"
    }
   ],
   "source": [
    "# See how many products they sell\n",
    "q = \"\"\"\n",
    "select count(distinct name) as num_products\n",
    "from bigquery-public-data.thelook_ecommerce.products;\n",
    "\"\"\"\n",
    "pd.read_gbq(q)"
   ]
  },
  {
   "cell_type": "code",
   "execution_count": null,
   "metadata": {},
   "outputs": [
    {
     "data": {
      "text/html": [
       "<div>\n",
       "<style scoped>\n",
       "    .dataframe tbody tr th:only-of-type {\n",
       "        vertical-align: middle;\n",
       "    }\n",
       "\n",
       "    .dataframe tbody tr th {\n",
       "        vertical-align: top;\n",
       "    }\n",
       "\n",
       "    .dataframe thead th {\n",
       "        text-align: right;\n",
       "    }\n",
       "</style>\n",
       "<table border=\"1\" class=\"dataframe\">\n",
       "  <thead>\n",
       "    <tr style=\"text-align: right;\">\n",
       "      <th></th>\n",
       "      <th>name</th>\n",
       "      <th>total_ordered</th>\n",
       "    </tr>\n",
       "  </thead>\n",
       "  <tbody>\n",
       "    <tr>\n",
       "      <th>0</th>\n",
       "      <td>Wrangler Men's Premium Performance Cowboy Cut ...</td>\n",
       "      <td>56</td>\n",
       "    </tr>\n",
       "    <tr>\n",
       "      <th>1</th>\n",
       "      <td>Joe's Jeans Men's Rebel Relaxed Fit Jean</td>\n",
       "      <td>35</td>\n",
       "    </tr>\n",
       "    <tr>\n",
       "      <th>2</th>\n",
       "      <td>Volcom Men's Vorta Slim Straight Leg Fit Jean</td>\n",
       "      <td>34</td>\n",
       "    </tr>\n",
       "    <tr>\n",
       "      <th>3</th>\n",
       "      <td>Wrangler Men's Original Cowboy Cut Relaxed Fit...</td>\n",
       "      <td>34</td>\n",
       "    </tr>\n",
       "    <tr>\n",
       "      <th>4</th>\n",
       "      <td>True Religion Men's Ricky Straight Jean</td>\n",
       "      <td>33</td>\n",
       "    </tr>\n",
       "    <tr>\n",
       "      <th>5</th>\n",
       "      <td>Puma Men's Socks</td>\n",
       "      <td>33</td>\n",
       "    </tr>\n",
       "    <tr>\n",
       "      <th>6</th>\n",
       "      <td>7 For All Mankind Men's Standard Classic Strai...</td>\n",
       "      <td>32</td>\n",
       "    </tr>\n",
       "    <tr>\n",
       "      <th>7</th>\n",
       "      <td>Rusty Men's Goombah Too Boardshort</td>\n",
       "      <td>32</td>\n",
       "    </tr>\n",
       "    <tr>\n",
       "      <th>8</th>\n",
       "      <td>Wrangler Men's Genuine Tampa Cargo Short</td>\n",
       "      <td>31</td>\n",
       "    </tr>\n",
       "    <tr>\n",
       "      <th>9</th>\n",
       "      <td>Wrangler Men's Wrancher Dress Jean</td>\n",
       "      <td>31</td>\n",
       "    </tr>\n",
       "  </tbody>\n",
       "</table>\n",
       "</div>"
      ],
      "text/plain": [
       "                                                name  total_ordered\n",
       "0  Wrangler Men's Premium Performance Cowboy Cut ...             56\n",
       "1           Joe's Jeans Men's Rebel Relaxed Fit Jean             35\n",
       "2      Volcom Men's Vorta Slim Straight Leg Fit Jean             34\n",
       "3  Wrangler Men's Original Cowboy Cut Relaxed Fit...             34\n",
       "4            True Religion Men's Ricky Straight Jean             33\n",
       "5                                   Puma Men's Socks             33\n",
       "6  7 For All Mankind Men's Standard Classic Strai...             32\n",
       "7                 Rusty Men's Goombah Too Boardshort             32\n",
       "8           Wrangler Men's Genuine Tampa Cargo Short             31\n",
       "9                 Wrangler Men's Wrancher Dress Jean             31"
      ]
     },
     "execution_count": 93,
     "metadata": {},
     "output_type": "execute_result"
    }
   ],
   "source": [
    "# Top 10 products\n",
    "q = \"\"\"\n",
    "select\n",
    "    name,\n",
    "    count(*) as total_ordered\n",
    "\n",
    "from bigquery-public-data.thelook_ecommerce.order_items as o\n",
    "join bigquery-public-data.thelook_ecommerce.products as p\n",
    "on o.product_id = p.id\n",
    "\n",
    "group by name\n",
    "order by count(*) desc\n",
    "limit 10\n",
    "\"\"\"\n",
    "pd.read_gbq(q)"
   ]
  },
  {
   "cell_type": "code",
   "execution_count": null,
   "metadata": {},
   "outputs": [
    {
     "data": {
      "text/html": [
       "<div>\n",
       "<style scoped>\n",
       "    .dataframe tbody tr th:only-of-type {\n",
       "        vertical-align: middle;\n",
       "    }\n",
       "\n",
       "    .dataframe tbody tr th {\n",
       "        vertical-align: top;\n",
       "    }\n",
       "\n",
       "    .dataframe thead th {\n",
       "        text-align: right;\n",
       "    }\n",
       "</style>\n",
       "<table border=\"1\" class=\"dataframe\">\n",
       "  <thead>\n",
       "    <tr style=\"text-align: right;\">\n",
       "      <th></th>\n",
       "      <th>date_order_created</th>\n",
       "      <th>category</th>\n",
       "      <th>name</th>\n",
       "      <th>brand</th>\n",
       "    </tr>\n",
       "  </thead>\n",
       "  <tbody>\n",
       "    <tr>\n",
       "      <th>0</th>\n",
       "      <td>2019-02-21</td>\n",
       "      <td>Jeans</td>\n",
       "      <td>7 For All Mankind Men's Standard Classic Strai...</td>\n",
       "      <td>7 For All Mankind</td>\n",
       "    </tr>\n",
       "    <tr>\n",
       "      <th>1</th>\n",
       "      <td>2019-03-07</td>\n",
       "      <td>Swim</td>\n",
       "      <td>Rusty Men's Goombah Too Boardshort</td>\n",
       "      <td>Rusty</td>\n",
       "    </tr>\n",
       "    <tr>\n",
       "      <th>2</th>\n",
       "      <td>2019-06-01</td>\n",
       "      <td>Swim</td>\n",
       "      <td>Rusty Men's Goombah Too Boardshort</td>\n",
       "      <td>Rusty</td>\n",
       "    </tr>\n",
       "    <tr>\n",
       "      <th>3</th>\n",
       "      <td>2019-06-06</td>\n",
       "      <td>Jeans</td>\n",
       "      <td>Volcom Men's Vorta Slim Straight Leg Fit Jean</td>\n",
       "      <td>Volcom</td>\n",
       "    </tr>\n",
       "    <tr>\n",
       "      <th>4</th>\n",
       "      <td>2019-07-13</td>\n",
       "      <td>Jeans</td>\n",
       "      <td>Volcom Men's Vorta Slim Straight Leg Fit Jean</td>\n",
       "      <td>Volcom</td>\n",
       "    </tr>\n",
       "    <tr>\n",
       "      <th>...</th>\n",
       "      <td>...</td>\n",
       "      <td>...</td>\n",
       "      <td>...</td>\n",
       "      <td>...</td>\n",
       "    </tr>\n",
       "    <tr>\n",
       "      <th>346</th>\n",
       "      <td>2023-02-10</td>\n",
       "      <td>Shorts</td>\n",
       "      <td>Wrangler Men's Genuine Tampa Cargo Short</td>\n",
       "      <td>Wrangler</td>\n",
       "    </tr>\n",
       "    <tr>\n",
       "      <th>347</th>\n",
       "      <td>2023-02-10</td>\n",
       "      <td>Socks</td>\n",
       "      <td>Puma Men's Socks</td>\n",
       "      <td>PUMA</td>\n",
       "    </tr>\n",
       "    <tr>\n",
       "      <th>348</th>\n",
       "      <td>2023-02-11</td>\n",
       "      <td>Jeans</td>\n",
       "      <td>Wrangler Men's Original Cowboy Cut Relaxed Fit...</td>\n",
       "      <td>Wrangler</td>\n",
       "    </tr>\n",
       "    <tr>\n",
       "      <th>349</th>\n",
       "      <td>2023-02-11</td>\n",
       "      <td>Jeans</td>\n",
       "      <td>Joe's Jeans Men's Rebel Relaxed Fit Jean</td>\n",
       "      <td>Joe's Jeans</td>\n",
       "    </tr>\n",
       "    <tr>\n",
       "      <th>350</th>\n",
       "      <td>2023-02-12</td>\n",
       "      <td>Jeans</td>\n",
       "      <td>True Religion Men's Ricky Straight Jean</td>\n",
       "      <td>True Religion</td>\n",
       "    </tr>\n",
       "  </tbody>\n",
       "</table>\n",
       "<p>351 rows × 4 columns</p>\n",
       "</div>"
      ],
      "text/plain": [
       "    date_order_created category  \\\n",
       "0           2019-02-21    Jeans   \n",
       "1           2019-03-07     Swim   \n",
       "2           2019-06-01     Swim   \n",
       "3           2019-06-06    Jeans   \n",
       "4           2019-07-13    Jeans   \n",
       "..                 ...      ...   \n",
       "346         2023-02-10   Shorts   \n",
       "347         2023-02-10    Socks   \n",
       "348         2023-02-11    Jeans   \n",
       "349         2023-02-11    Jeans   \n",
       "350         2023-02-12    Jeans   \n",
       "\n",
       "                                                  name              brand  \n",
       "0    7 For All Mankind Men's Standard Classic Strai...  7 For All Mankind  \n",
       "1                   Rusty Men's Goombah Too Boardshort              Rusty  \n",
       "2                   Rusty Men's Goombah Too Boardshort              Rusty  \n",
       "3        Volcom Men's Vorta Slim Straight Leg Fit Jean             Volcom  \n",
       "4        Volcom Men's Vorta Slim Straight Leg Fit Jean             Volcom  \n",
       "..                                                 ...                ...  \n",
       "346           Wrangler Men's Genuine Tampa Cargo Short           Wrangler  \n",
       "347                                   Puma Men's Socks               PUMA  \n",
       "348  Wrangler Men's Original Cowboy Cut Relaxed Fit...           Wrangler  \n",
       "349           Joe's Jeans Men's Rebel Relaxed Fit Jean        Joe's Jeans  \n",
       "350            True Religion Men's Ricky Straight Jean      True Religion  \n",
       "\n",
       "[351 rows x 4 columns]"
      ]
     },
     "execution_count": 109,
     "metadata": {},
     "output_type": "execute_result"
    }
   ],
   "source": [
    "# Top 10 products\n",
    "q = \"\"\"\n",
    "select\n",
    "    date(created_at) as date_order_created,\n",
    "    category,\n",
    "    name,\n",
    "    brand\n",
    "\n",
    "from bigquery-public-data.thelook_ecommerce.order_items as o\n",
    "join bigquery-public-data.thelook_ecommerce.products as p\n",
    "on o.product_id = p.id\n",
    "\n",
    "where name in (\n",
    "    select\n",
    "        name\n",
    "\n",
    "    from bigquery-public-data.thelook_ecommerce.order_items as o\n",
    "    join bigquery-public-data.thelook_ecommerce.products as p\n",
    "    on o.product_id = p.id\n",
    "\n",
    "    group by name\n",
    "    order by count(*) desc\n",
    "    limit 10)\n",
    "\n",
    "order by created_at\n",
    "\"\"\"\n",
    "df = pd.read_gbq(q)\n",
    "df"
   ]
  },
  {
   "cell_type": "code",
   "execution_count": null,
   "metadata": {},
   "outputs": [],
   "source": []
  },
  {
   "cell_type": "code",
   "execution_count": null,
   "metadata": {},
   "outputs": [],
   "source": []
  },
  {
   "cell_type": "code",
   "execution_count": null,
   "metadata": {},
   "outputs": [],
   "source": []
  },
  {
   "cell_type": "code",
   "execution_count": null,
   "metadata": {},
   "outputs": [],
   "source": []
  },
  {
   "cell_type": "code",
   "execution_count": null,
   "metadata": {},
   "outputs": [],
   "source": []
  },
  {
   "cell_type": "code",
   "execution_count": null,
   "metadata": {},
   "outputs": [],
   "source": []
  },
  {
   "attachments": {},
   "cell_type": "markdown",
   "metadata": {},
   "source": [
    "## Others\n",
    "* top 10 users based off total spend\n",
    "* top 10 countries by spend\n",
    "\n",
    "* CREATE profit margin table\n",
    "* profit margin by country, product, brand, etc\n",
    "* \n",
    "* \n",
    "\n",
    "* amount spend by country\n",
    "* orders by state\n",
    "* traffic source: source of web traffc breakdown\n",
    "* distinct users by country\n",
    "* bottom 5 products\n",
    "* top 5 products\n",
    "* profit by category\n",
    "* profit over time\n",
    "* average shipping time by distribution\n",
    "* total completed orders\n",
    "* totla inventory\n",
    "* completed orders over time by center"
   ]
  },
  {
   "cell_type": "code",
   "execution_count": null,
   "metadata": {},
   "outputs": [],
   "source": []
  },
  {
   "cell_type": "code",
   "execution_count": null,
   "metadata": {},
   "outputs": [],
   "source": []
  },
  {
   "cell_type": "code",
   "execution_count": null,
   "metadata": {},
   "outputs": [],
   "source": []
  },
  {
   "cell_type": "code",
   "execution_count": null,
   "metadata": {},
   "outputs": [],
   "source": []
  },
  {
   "cell_type": "code",
   "execution_count": null,
   "metadata": {},
   "outputs": [],
   "source": []
  },
  {
   "cell_type": "code",
   "execution_count": null,
   "metadata": {},
   "outputs": [],
   "source": []
  },
  {
   "cell_type": "code",
   "execution_count": null,
   "metadata": {},
   "outputs": [],
   "source": []
  },
  {
   "cell_type": "code",
   "execution_count": null,
   "metadata": {},
   "outputs": [],
   "source": []
  },
  {
   "cell_type": "code",
   "execution_count": null,
   "metadata": {},
   "outputs": [],
   "source": []
  },
  {
   "cell_type": "code",
   "execution_count": null,
   "metadata": {},
   "outputs": [],
   "source": []
  },
  {
   "cell_type": "code",
   "execution_count": null,
   "metadata": {},
   "outputs": [],
   "source": []
  },
  {
   "cell_type": "code",
   "execution_count": null,
   "metadata": {},
   "outputs": [],
   "source": []
  },
  {
   "cell_type": "code",
   "execution_count": null,
   "metadata": {},
   "outputs": [],
   "source": []
  },
  {
   "cell_type": "code",
   "execution_count": null,
   "metadata": {},
   "outputs": [],
   "source": []
  },
  {
   "cell_type": "code",
   "execution_count": null,
   "metadata": {},
   "outputs": [],
   "source": []
  },
  {
   "cell_type": "code",
   "execution_count": null,
   "metadata": {},
   "outputs": [],
   "source": []
  },
  {
   "cell_type": "code",
   "execution_count": null,
   "metadata": {},
   "outputs": [],
   "source": []
  },
  {
   "cell_type": "code",
   "execution_count": null,
   "metadata": {},
   "outputs": [],
   "source": []
  },
  {
   "cell_type": "code",
   "execution_count": null,
   "metadata": {},
   "outputs": [],
   "source": []
  },
  {
   "cell_type": "code",
   "execution_count": null,
   "metadata": {},
   "outputs": [],
   "source": []
  },
  {
   "cell_type": "code",
   "execution_count": null,
   "metadata": {},
   "outputs": [],
   "source": []
  },
  {
   "cell_type": "code",
   "execution_count": null,
   "metadata": {},
   "outputs": [],
   "source": []
  },
  {
   "cell_type": "code",
   "execution_count": null,
   "metadata": {},
   "outputs": [],
   "source": []
  },
  {
   "cell_type": "code",
   "execution_count": null,
   "metadata": {},
   "outputs": [],
   "source": []
  },
  {
   "cell_type": "code",
   "execution_count": null,
   "metadata": {},
   "outputs": [],
   "source": []
  },
  {
   "cell_type": "code",
   "execution_count": null,
   "metadata": {},
   "outputs": [],
   "source": []
  },
  {
   "cell_type": "code",
   "execution_count": null,
   "metadata": {},
   "outputs": [],
   "source": []
  },
  {
   "cell_type": "code",
   "execution_count": null,
   "metadata": {},
   "outputs": [],
   "source": []
  },
  {
   "cell_type": "code",
   "execution_count": null,
   "metadata": {},
   "outputs": [],
   "source": []
  },
  {
   "cell_type": "code",
   "execution_count": null,
   "metadata": {},
   "outputs": [],
   "source": []
  },
  {
   "cell_type": "code",
   "execution_count": null,
   "metadata": {},
   "outputs": [],
   "source": []
  },
  {
   "cell_type": "code",
   "execution_count": null,
   "metadata": {},
   "outputs": [],
   "source": []
  },
  {
   "cell_type": "code",
   "execution_count": null,
   "metadata": {},
   "outputs": [],
   "source": []
  },
  {
   "cell_type": "code",
   "execution_count": null,
   "metadata": {},
   "outputs": [],
   "source": []
  },
  {
   "cell_type": "code",
   "execution_count": null,
   "metadata": {},
   "outputs": [],
   "source": []
  },
  {
   "cell_type": "code",
   "execution_count": null,
   "metadata": {},
   "outputs": [],
   "source": []
  },
  {
   "cell_type": "code",
   "execution_count": null,
   "metadata": {},
   "outputs": [],
   "source": []
  },
  {
   "cell_type": "code",
   "execution_count": null,
   "metadata": {},
   "outputs": [],
   "source": []
  },
  {
   "cell_type": "code",
   "execution_count": null,
   "metadata": {},
   "outputs": [],
   "source": []
  },
  {
   "cell_type": "code",
   "execution_count": null,
   "metadata": {},
   "outputs": [],
   "source": []
  },
  {
   "cell_type": "code",
   "execution_count": null,
   "metadata": {},
   "outputs": [],
   "source": []
  },
  {
   "cell_type": "code",
   "execution_count": null,
   "metadata": {},
   "outputs": [],
   "source": []
  },
  {
   "cell_type": "code",
   "execution_count": null,
   "metadata": {},
   "outputs": [],
   "source": []
  },
  {
   "cell_type": "code",
   "execution_count": null,
   "metadata": {},
   "outputs": [],
   "source": []
  },
  {
   "cell_type": "code",
   "execution_count": null,
   "metadata": {},
   "outputs": [],
   "source": []
  },
  {
   "cell_type": "code",
   "execution_count": null,
   "metadata": {},
   "outputs": [],
   "source": []
  },
  {
   "cell_type": "code",
   "execution_count": null,
   "metadata": {},
   "outputs": [],
   "source": []
  },
  {
   "cell_type": "code",
   "execution_count": null,
   "metadata": {},
   "outputs": [],
   "source": []
  },
  {
   "cell_type": "code",
   "execution_count": null,
   "metadata": {},
   "outputs": [],
   "source": []
  },
  {
   "attachments": {},
   "cell_type": "markdown",
   "metadata": {},
   "source": [
    "# How to create value for the business\n",
    "After gaining an understanding of the data contained in each table, I have identified several business questions and tasks to help create value for the business.\n",
    "\n",
    "\n",
    "1. By analysing the KPIs and conducting hypothesis tests, the e-commerce business could determine which factors are driving the success of the business and make adjustments to improve them. For example, if the results of the hypothesis tests show that there is a significant difference between the conversion rates of different age groups, the e-commerce business could create targeted marketing campaigns for each age group to increase conversions.\n",
    "\n",
    "2. KMeans clustering to segment customers into different groups can help the e-commerce business understand which customer segments are the most profitable and which segments need more attention. This information can then be used to allocate resources more efficiently and improve the overall success of the business."
   ]
  },
  {
   "cell_type": "code",
   "execution_count": null,
   "metadata": {},
   "outputs": [],
   "source": []
  },
  {
   "cell_type": "code",
   "execution_count": null,
   "metadata": {},
   "outputs": [],
   "source": []
  },
  {
   "cell_type": "code",
   "execution_count": null,
   "metadata": {},
   "outputs": [],
   "source": []
  },
  {
   "cell_type": "code",
   "execution_count": null,
   "metadata": {},
   "outputs": [],
   "source": []
  },
  {
   "attachments": {},
   "cell_type": "markdown",
   "metadata": {},
   "source": [
    "# Data cleaning, transformation\n",
    "After scraping the data, I needed to clean it up so that it was usable for our model. \n",
    "1. Create copy/views of tables so can clean data\n",
    "\n",
    "* identfy and remove duplicates\n",
    "* similar words DIFF()\n",
    "* consistent formating,data types\n",
    "* missing values\n",
    "* consistent field length LENGTH()\n",
    "* TRIM() unwanted spaces\n",
    "* spelling errors with REGEX_REPLACE(lower(trim(column_name)), '[^a-zA-Z0-9]+', '')\n",
    "* date format\n",
    "\n",
    "I made the following changes:\n",
    "* Parsed numeric data out of salary\n",
    "* Made columns for employer provided salary and hourly wages\n",
    "* Removed rows without salary\n",
    "* Parsed rating out of company text\n",
    "\n",
    "Created the following variables:\n",
    "* Made a new column for company state\n",
    "* Added a column for if the job was at the company’s headquarters\n",
    "* Transformed founded date into age of company\n"
   ]
  },
  {
   "attachments": {},
   "cell_type": "markdown",
   "metadata": {},
   "source": [
    "create function\n",
    "cleanse_string (text string)\n",
    "returns string\n",
    "as (regex_replace(lower(trim(text)), '[^a-zA-Z0-9]+', '')"
   ]
  },
  {
   "cell_type": "code",
   "execution_count": null,
   "metadata": {},
   "outputs": [],
   "source": []
  },
  {
   "cell_type": "code",
   "execution_count": null,
   "metadata": {},
   "outputs": [],
   "source": []
  },
  {
   "cell_type": "code",
   "execution_count": null,
   "metadata": {},
   "outputs": [],
   "source": []
  },
  {
   "cell_type": "code",
   "execution_count": null,
   "metadata": {},
   "outputs": [],
   "source": []
  },
  {
   "cell_type": "code",
   "execution_count": null,
   "metadata": {},
   "outputs": [],
   "source": []
  },
  {
   "attachments": {},
   "cell_type": "markdown",
   "metadata": {},
   "source": [
    "# Data Model\n",
    "* import views into powerbi\n",
    "* create data model, relationshipd\n",
    "* power query to validate data (correct datatypes, data view missings,etc)\n",
    "* final clean,transform data\n",
    "* screenshot of ETD"
   ]
  },
  {
   "cell_type": "code",
   "execution_count": null,
   "metadata": {},
   "outputs": [],
   "source": []
  },
  {
   "attachments": {},
   "cell_type": "markdown",
   "metadata": {},
   "source": [
    "# EDA\n",
    "* SQL analyse data and answer questions, discover insights\n",
    "* Calculate measures, KPIs -> validate with PowerBI DAX"
   ]
  },
  {
   "cell_type": "code",
   "execution_count": null,
   "metadata": {},
   "outputs": [],
   "source": []
  },
  {
   "cell_type": "code",
   "execution_count": null,
   "metadata": {},
   "outputs": [],
   "source": []
  },
  {
   "cell_type": "code",
   "execution_count": null,
   "metadata": {},
   "outputs": [],
   "source": []
  },
  {
   "attachments": {},
   "cell_type": "markdown",
   "metadata": {},
   "source": [
    "# Univariate Analysis\n",
    "I looked at the distributions of the data and the value counts for the various categorical variables. Below are a few highlights from the pivot tables.\n",
    "* missing values, min, max, mean, median, std, skew, kurtosis\n",
    "* iqr to detect outliers\n",
    "* distribution plots\n",
    "* Prepare data for statistical analysis: remove outliers, missing values"
   ]
  },
  {
   "cell_type": "code",
   "execution_count": null,
   "metadata": {},
   "outputs": [],
   "source": []
  },
  {
   "cell_type": "code",
   "execution_count": null,
   "metadata": {},
   "outputs": [],
   "source": []
  },
  {
   "cell_type": "code",
   "execution_count": null,
   "metadata": {},
   "outputs": [],
   "source": []
  },
  {
   "cell_type": "code",
   "execution_count": null,
   "metadata": {},
   "outputs": [],
   "source": []
  },
  {
   "cell_type": "code",
   "execution_count": null,
   "metadata": {},
   "outputs": [],
   "source": []
  },
  {
   "attachments": {},
   "cell_type": "markdown",
   "metadata": {},
   "source": [
    "# Bivariate Analysis\n",
    "* statistics summary,\n",
    "* +/-, effect, test, p-value\n",
    "* heteroscedascity, skew, kurtosis\n",
    "* plots\n"
   ]
  },
  {
   "attachments": {},
   "cell_type": "markdown",
   "metadata": {},
   "source": [
    "# t-tests\n",
    "\n",
    "* I tested statistics from the first three quarters, if they´re significant different from the 4th quarter:\n",
    "* Reject H0 at the 95% confidence interval for Pace, AST, 3P%,'PTS','FT%\n",
    "* Can´t reject H0 for DEFRTG and OFFRTG at the 95% confidence interval"
   ]
  },
  {
   "cell_type": "code",
   "execution_count": null,
   "metadata": {},
   "outputs": [],
   "source": []
  },
  {
   "cell_type": "code",
   "execution_count": null,
   "metadata": {},
   "outputs": [],
   "source": []
  },
  {
   "cell_type": "code",
   "execution_count": null,
   "metadata": {},
   "outputs": [],
   "source": []
  },
  {
   "cell_type": "code",
   "execution_count": null,
   "metadata": {},
   "outputs": [],
   "source": []
  },
  {
   "cell_type": "code",
   "execution_count": null,
   "metadata": {},
   "outputs": [],
   "source": []
  },
  {
   "cell_type": "code",
   "execution_count": null,
   "metadata": {},
   "outputs": [],
   "source": []
  },
  {
   "cell_type": "code",
   "execution_count": null,
   "metadata": {},
   "outputs": [],
   "source": []
  },
  {
   "cell_type": "code",
   "execution_count": null,
   "metadata": {},
   "outputs": [],
   "source": []
  },
  {
   "cell_type": "code",
   "execution_count": null,
   "metadata": {},
   "outputs": [],
   "source": []
  },
  {
   "cell_type": "code",
   "execution_count": null,
   "metadata": {},
   "outputs": [],
   "source": []
  },
  {
   "cell_type": "code",
   "execution_count": null,
   "metadata": {},
   "outputs": [],
   "source": []
  },
  {
   "cell_type": "code",
   "execution_count": null,
   "metadata": {},
   "outputs": [],
   "source": []
  },
  {
   "cell_type": "code",
   "execution_count": null,
   "metadata": {},
   "outputs": [],
   "source": []
  },
  {
   "attachments": {},
   "cell_type": "markdown",
   "metadata": {},
   "source": [
    "# KMeans Clustering\n",
    "I wanted to know the individual team performance, if some teams step up in the 4th quarter:\n",
    "\n",
    "The actual top 3 in the standings (Bucks, Lakers, Clippers) grouped in the same cluster + the contenders in the west (Thunder, Mavericks)\n",
    "Also, the bottom teams were all grouped in one cluster\n",
    "The other two grouped was teams, who are in the middle or don´t improve much in the 4th quarter to be in the elite cluster"
   ]
  },
  {
   "cell_type": "code",
   "execution_count": null,
   "metadata": {},
   "outputs": [],
   "source": []
  },
  {
   "cell_type": "code",
   "execution_count": null,
   "metadata": {},
   "outputs": [],
   "source": []
  },
  {
   "cell_type": "code",
   "execution_count": null,
   "metadata": {},
   "outputs": [],
   "source": []
  },
  {
   "cell_type": "code",
   "execution_count": null,
   "metadata": {},
   "outputs": [],
   "source": []
  },
  {
   "cell_type": "code",
   "execution_count": null,
   "metadata": {},
   "outputs": [],
   "source": []
  },
  {
   "cell_type": "code",
   "execution_count": null,
   "metadata": {},
   "outputs": [],
   "source": []
  },
  {
   "cell_type": "code",
   "execution_count": null,
   "metadata": {},
   "outputs": [],
   "source": []
  },
  {
   "attachments": {},
   "cell_type": "markdown",
   "metadata": {},
   "source": [
    "# Conclusion\n",
    "I couldn´t prove, that the defense improved in the last quarter of the game. The lower scoring average in the 4th is a result of less possessions. Still they´re some teams, who play better in the 4th quarter and it is not a coincidence that this are the top ranked teams of the league. Because of that my claim would be, that the best teams have an on-switch and can play their best, when it matters.\n",
    "* key insights, patterns\n",
    "* summarise key drivers of KPIs\n",
    "* plot\n",
    "* make recommendations to monitor these key drivers\n"
   ]
  },
  {
   "cell_type": "code",
   "execution_count": null,
   "metadata": {},
   "outputs": [],
   "source": []
  },
  {
   "cell_type": "code",
   "execution_count": null,
   "metadata": {},
   "outputs": [],
   "source": []
  },
  {
   "cell_type": "code",
   "execution_count": null,
   "metadata": {},
   "outputs": [],
   "source": []
  },
  {
   "cell_type": "code",
   "execution_count": null,
   "metadata": {},
   "outputs": [],
   "source": []
  },
  {
   "cell_type": "code",
   "execution_count": null,
   "metadata": {},
   "outputs": [],
   "source": []
  },
  {
   "cell_type": "code",
   "execution_count": null,
   "metadata": {},
   "outputs": [],
   "source": []
  },
  {
   "attachments": {},
   "cell_type": "markdown",
   "metadata": {},
   "source": [
    "# Dashboard\n",
    "In this step, I built a flask API endpoint that was hosted on a local webserver by following along with the TDS tutorial in the reference section above. The API endpoint takes in a request with a list of values from a job listing and returns an estimated salary."
   ]
  }
 ],
 "metadata": {
  "kernelspec": {
   "display_name": "Python 3",
   "language": "python",
   "name": "python3"
  },
  "language_info": {
   "codemirror_mode": {
    "name": "ipython",
    "version": 3
   },
   "file_extension": ".py",
   "mimetype": "text/x-python",
   "name": "python",
   "nbconvert_exporter": "python",
   "pygments_lexer": "ipython3",
   "version": "3.10.5"
  },
  "orig_nbformat": 4,
  "vscode": {
   "interpreter": {
    "hash": "4dc00988b6380d78f37925bb5cfd9f97a198c15e33ccaa3d0f00c8d36181cbab"
   }
  }
 },
 "nbformat": 4,
 "nbformat_minor": 2
}
