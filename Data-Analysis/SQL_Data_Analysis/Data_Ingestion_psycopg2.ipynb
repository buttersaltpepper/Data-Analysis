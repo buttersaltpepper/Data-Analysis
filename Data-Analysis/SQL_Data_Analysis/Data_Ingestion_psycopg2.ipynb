{
 "cells": [
  {
   "cell_type": "code",
   "execution_count": 1,
   "metadata": {},
   "outputs": [],
   "source": [
    "import psycopg2 as pg\n",
    "import pandas as pd\n",
    "import re"
   ]
  },
  {
   "cell_type": "code",
   "execution_count": 2,
   "metadata": {},
   "outputs": [],
   "source": [
    "def create_db_connection(host_name, user_name, user_password, db_name):\n",
    "    conn = None\n",
    "    try:\n",
    "        conn = pg.connect(\n",
    "            host=host_name,\n",
    "            user = user_name,\n",
    "            password = user_password,\n",
    "            database = db_name\n",
    "        )\n",
    "        print(\"PostgreSQL '{}' Database connection successful\".format(db_name))\n",
    "    except Exception as e:\n",
    "        print(f\"Error: '{e}'\")\n",
    "    return conn\n",
    "\n",
    "def execute_query(q, conn):\n",
    "    cur = conn.cursor()\n",
    "    try:\n",
    "        cur.execute(q)\n",
    "        conn.commit()\n",
    "        print('Query successful!\\n')\n",
    "    except Exception as e:\n",
    "        print(f\"Error: '{e}'\")\n",
    "        conn.rollback()"
   ]
  },
  {
   "cell_type": "code",
   "execution_count": 3,
   "metadata": {},
   "outputs": [],
   "source": [
    "db = 'datacampsales'\n",
    "csvpath = 'data/traffic.csv'\n",
    "table_name = 'traffic'\n",
    "\n",
    "df = pd.read_csv(csvpath)"
   ]
  },
  {
   "cell_type": "code",
   "execution_count": 4,
   "metadata": {},
   "outputs": [
    {
     "name": "stdout",
     "output_type": "stream",
     "text": [
      "PostgreSQL 'datacampsales' Database connection successful\n"
     ]
    }
   ],
   "source": [
    "conn = create_db_connection('localhost', 'postgres', 'password', db)\n",
    "cur=conn.cursor()"
   ]
  },
  {
   "cell_type": "code",
   "execution_count": 5,
   "metadata": {},
   "outputs": [],
   "source": [
    "def create_schema_from_df(data, table_name):\n",
    "    dtype_map = {\n",
    "        'float64': 'float',\n",
    "        'int64': 'bigint',\n",
    "        'bool': 'boolean',\n",
    "        'datetime64': 'timestamp',\n",
    "        'timedelta64[ns]': 'varchar',\n",
    "        'object': 'varchar',\n",
    "    }\n",
    "\n",
    "    schema_list = []\n",
    "    \n",
    "    for column_name, dtype in data.dtypes.items():\n",
    "        column_name = re.sub('[^A-Za-z0-9]+', '_', column_name).lower()\n",
    "        column_name = str.strip(column_name)\n",
    "\n",
    "        sql_dtype = dtype_map.get(dtype.name)\n",
    "        schema_list.append(f\"{column_name} {sql_dtype}\")\n",
    "\n",
    "    query = \"\"\"CREATE TABLE {} (\\n{});\"\"\".format(table_name, ',\\n'.join(schema_list))\n",
    "\n",
    "    try:\n",
    "        execute_query(query, conn)\n",
    "    except Exception as e:\n",
    "        print(f\"Error: '{e}'\")\n",
    "        conn.rollback()\n",
    "    print(query)"
   ]
  },
  {
   "cell_type": "code",
   "execution_count": 6,
   "metadata": {},
   "outputs": [
    {
     "name": "stdout",
     "output_type": "stream",
     "text": [
      "Query successful!\n",
      "\n",
      "Query successful!\n",
      "\n",
      "CREATE TABLE traffic (\n",
      "product_id varchar,\n",
      "last_visited varchar);\n"
     ]
    }
   ],
   "source": [
    "execute_query('drop table if exists {}'.format(table_name), conn)\n",
    "create_schema_from_df(df, table_name)"
   ]
  },
  {
   "cell_type": "code",
   "execution_count": 7,
   "metadata": {},
   "outputs": [
    {
     "name": "stdout",
     "output_type": "stream",
     "text": [
      "Data inserted into traffic using copy_from_datafile() successfully....\n"
     ]
    }
   ],
   "source": [
    "with open(csvpath, \"r\") as f:\n",
    "    next(f)\n",
    "    try:\n",
    "        cur.copy_from(f, table_name, sep=',', null='')\n",
    "        conn.commit()\n",
    "\n",
    "        print(\"Data inserted into {} using copy_from_datafile() successfully....\".format(table_name))\n",
    "    except Exception as e:\n",
    "        print(f\"Error: '{e}'\")\n",
    "        conn.rollback()"
   ]
  },
  {
   "cell_type": "code",
   "execution_count": 9,
   "metadata": {},
   "outputs": [
    {
     "name": "stderr",
     "output_type": "stream",
     "text": [
      "c:\\Users\\jacks\\AppData\\Local\\Programs\\Python\\Python310\\lib\\site-packages\\pandas\\io\\sql.py:761: UserWarning: pandas only support SQLAlchemy connectable(engine/connection) ordatabase string URI or sqlite3 DBAPI2 connectionother DBAPI2 objects are not tested, please consider using SQLAlchemy\n",
      "  warnings.warn(\n"
     ]
    },
    {
     "data": {
      "text/html": [
       "<div>\n",
       "<style scoped>\n",
       "    .dataframe tbody tr th:only-of-type {\n",
       "        vertical-align: middle;\n",
       "    }\n",
       "\n",
       "    .dataframe tbody tr th {\n",
       "        vertical-align: top;\n",
       "    }\n",
       "\n",
       "    .dataframe thead th {\n",
       "        text-align: right;\n",
       "    }\n",
       "</style>\n",
       "<table border=\"1\" class=\"dataframe\">\n",
       "  <thead>\n",
       "    <tr style=\"text-align: right;\">\n",
       "      <th></th>\n",
       "      <th>product_id</th>\n",
       "      <th>last_visited</th>\n",
       "    </tr>\n",
       "  </thead>\n",
       "  <tbody>\n",
       "    <tr>\n",
       "      <th>0</th>\n",
       "      <td>AH2430</td>\n",
       "      <td>2018-05-19 15:13:00</td>\n",
       "    </tr>\n",
       "    <tr>\n",
       "      <th>1</th>\n",
       "      <td>G27341</td>\n",
       "      <td>2018-11-29 16:16:00</td>\n",
       "    </tr>\n",
       "    <tr>\n",
       "      <th>2</th>\n",
       "      <td>CM0081</td>\n",
       "      <td>2018-02-01 10:27:00</td>\n",
       "    </tr>\n",
       "    <tr>\n",
       "      <th>3</th>\n",
       "      <td>B44832</td>\n",
       "      <td>2018-09-07 20:06:00</td>\n",
       "    </tr>\n",
       "    <tr>\n",
       "      <th>4</th>\n",
       "      <td>D98205</td>\n",
       "      <td>2019-07-18 15:26:00</td>\n",
       "    </tr>\n",
       "  </tbody>\n",
       "</table>\n",
       "</div>"
      ],
      "text/plain": [
       "  product_id         last_visited\n",
       "0     AH2430  2018-05-19 15:13:00\n",
       "1     G27341  2018-11-29 16:16:00\n",
       "2     CM0081  2018-02-01 10:27:00\n",
       "3     B44832  2018-09-07 20:06:00\n",
       "4     D98205  2019-07-18 15:26:00"
      ]
     },
     "execution_count": 9,
     "metadata": {},
     "output_type": "execute_result"
    }
   ],
   "source": [
    "pd.read_sql('select * from {} limit 5'.format(table_name),conn)"
   ]
  },
  {
   "cell_type": "code",
   "execution_count": 10,
   "metadata": {},
   "outputs": [],
   "source": [
    "conn.close()"
   ]
  }
 ],
 "metadata": {
  "kernelspec": {
   "display_name": "Python 3",
   "language": "python",
   "name": "python3"
  },
  "language_info": {
   "codemirror_mode": {
    "name": "ipython",
    "version": 3
   },
   "file_extension": ".py",
   "mimetype": "text/x-python",
   "name": "python",
   "nbconvert_exporter": "python",
   "pygments_lexer": "ipython3",
   "version": "3.10.5"
  },
  "orig_nbformat": 4,
  "vscode": {
   "interpreter": {
    "hash": "4dc00988b6380d78f37925bb5cfd9f97a198c15e33ccaa3d0f00c8d36181cbab"
   }
  }
 },
 "nbformat": 4,
 "nbformat_minor": 2
}
